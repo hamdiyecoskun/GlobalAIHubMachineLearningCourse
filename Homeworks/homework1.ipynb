{
 "cells": [
  {
   "cell_type": "markdown",
   "metadata": {},
   "source": [
    "1) How would you define Machine Learning?\n",
    "Bilgisayarların istatistiksel işlemler ile veriler üzerinden öğrenmesini sağlayan algoritmalardır\n",
    "2) What are the differences between Supervised and Unsupervised Learning? Specify example 3 algorithms for each of these.\n",
    "Denetimli öğrenmede model girdi ve çıktı değişkenleri(etiketli veri) ile eğitilir. Amaç girdi özelliklerini çıktı ile eşleştirmek için uygun fonksiyonu bulmaktır. Algoritmaları:  linear regression, logistics regression, random forest. Denetimsiz öğrenmede model sadece girdi verileri(etiketsiz veri) ile eğitilir. Amaç veriler hakkında bilgi edinmek için dağılımı modellemektir. Algoritmaları: cluster algorithms, k-means, hierarchical clustering.\n",
    "3) What are the test and validation set, and why would you want to use them?\n",
    "Doğrulama veri seti modelin performansını değerlendirmek için, test veri seti modelin gelecekteki performansını değerlendirmek için kullanılır.\n",
    "4) What are the main preprocessing steps? Explain them in detail. Why we need to prepare our data?\n",
    "Modelin belirli bir veri üzerine eğilim göstermemesi için tekrarlayan (duplicate) verilerin silinmesi, \n",
    "sınıfların eşit dağılmadığı dengesiz veri kümeleriyle çalışıldığında azınlık sınıfına ait verileri arttırma(oversampling) ya da ağırlıklı sınıfa ait verileri veri kümesinden çıkarma(undersampling) işlemleri uygulanarak dengeli bir veri kümesi elde edilmesi, eksik değerlerin medyan veya ortalama ile doldulması veya kaldırılması, aykırı değer(genel dağılımın dışına çıkan gözlem) tespit edilmesi ve silme,ortalama ile doldurma işlemlerinin uygulanması, yanlılığın engellenmesi ve algoritmanın hızının arttırılması için değişkenlerin belirlenen aralıklara indirgenmesi(feature scaling), gürültülü verilerin etkilerini azaltmak için verinin sıralanması ve eşit frekanslarda paketlere bölünmesi(binning), verilerin bütün bir bilgi olarak değil de bu bilgiyi oluşturan vasıflardan bazılarının çıkarılması ve sistemin bu vasıflar üzerine kurulması (feature extraction), girdi kabul edilecek şekilde dönüşüm yapılması (feature encoding) İlgisiz, gereksiz, güvenilmez veriler yanıltıcı sonuçlar doğurabilir. Sonucun doğruluğunu arttırmak için veriler hazırlanmalıdır.\n",
    "5) How you can explore and analyse countionus and discrete variables?\n",
    "Ayrık değişken belirli sayıda değere sahip olanı ifade ederken, sürekli değişken belirli bir aralık arasında herhangi bir değeri alabilen değişkendir. Ayrık değişkenler bar chart, sürekli değişkenler histogram aracılığıyla analiz edilir.\n",
    "6) Analyse the plot given below. (What is the plot and variable type, check the distribution and make comment about how you can preproccess it.)\n",
    "Histogram. Sürekli değişken."
   ]
  },
  {
   "cell_type": "code",
   "execution_count": null,
   "metadata": {},
   "outputs": [],
   "source": []
  }
 ],
 "metadata": {
  "kernelspec": {
   "display_name": "Python 3",
   "language": "python",
   "name": "python3"
  },
  "language_info": {
   "codemirror_mode": {
    "name": "ipython",
    "version": 3
   },
   "file_extension": ".py",
   "mimetype": "text/x-python",
   "name": "python",
   "nbconvert_exporter": "python",
   "pygments_lexer": "ipython3",
   "version": "3.8.3"
  }
 },
 "nbformat": 4,
 "nbformat_minor": 4
}
